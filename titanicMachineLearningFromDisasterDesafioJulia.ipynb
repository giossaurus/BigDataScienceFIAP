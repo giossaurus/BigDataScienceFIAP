{
  "nbformat": 4,
  "nbformat_minor": 0,
  "metadata": {
    "colab": {
      "provenance": []
    },
    "kernelspec": {
      "name": "julia",
      "display_name": "Julia"
    },
    "language_info": {
      "name": "julia"
    }
  },
  "cells": [
    {
      "cell_type": "code",
      "execution_count": 35,
      "metadata": {
        "colab": {
          "base_uri": "https://localhost:8080/"
        },
        "id": "l7r676i1094q",
        "outputId": "1133cd1b-fd1b-4b0e-c410-dba19b5b8c72"
      },
      "outputs": [
        {
          "output_type": "stream",
          "name": "stderr",
          "text": [
            "\u001b[32m\u001b[1m   Resolving\u001b[22m\u001b[39m package versions...\n",
            "\u001b[32m\u001b[1m  No Changes\u001b[22m\u001b[39m to `~/.julia/environments/v1.10/Project.toml`\n",
            "\u001b[32m\u001b[1m  No Changes\u001b[22m\u001b[39m to `~/.julia/environments/v1.10/Manifest.toml`\n",
            "\u001b[32m\u001b[1m   Resolving\u001b[22m\u001b[39m package versions...\n",
            "\u001b[32m\u001b[1m  No Changes\u001b[22m\u001b[39m to `~/.julia/environments/v1.10/Project.toml`\n",
            "\u001b[32m\u001b[1m  No Changes\u001b[22m\u001b[39m to `~/.julia/environments/v1.10/Manifest.toml`\n",
            "\u001b[32m\u001b[1m   Resolving\u001b[22m\u001b[39m package versions...\n",
            "\u001b[32m\u001b[1m  No Changes\u001b[22m\u001b[39m to `~/.julia/environments/v1.10/Project.toml`\n",
            "\u001b[32m\u001b[1m  No Changes\u001b[22m\u001b[39m to `~/.julia/environments/v1.10/Manifest.toml`\n",
            "\u001b[32m\u001b[1m   Resolving\u001b[22m\u001b[39m package versions...\n",
            "\u001b[32m\u001b[1m  No Changes\u001b[22m\u001b[39m to `~/.julia/environments/v1.10/Project.toml`\n",
            "\u001b[32m\u001b[1m  No Changes\u001b[22m\u001b[39m to `~/.julia/environments/v1.10/Manifest.toml`\n",
            "\u001b[32m\u001b[1m   Resolving\u001b[22m\u001b[39m package versions...\n",
            "\u001b[32m\u001b[1m  No Changes\u001b[22m\u001b[39m to `~/.julia/environments/v1.10/Project.toml`\n",
            "\u001b[32m\u001b[1m  No Changes\u001b[22m\u001b[39m to `~/.julia/environments/v1.10/Manifest.toml`\n"
          ]
        }
      ],
      "source": [
        "using Pkg\n",
        "Pkg.add(\"CSV\")\n",
        "Pkg.add(\"DataFrames\")\n",
        "Pkg.add(\"CategoricalArrays\")\n",
        "Pkg.add(\"MLJ\")\n",
        "Pkg.add(\"MLJLinearModels\")"
      ]
    },
    {
      "cell_type": "code",
      "source": [
        "#Se não estiver no ambiente de Julia para executar o notebook pode alterar manualmente ou rodar esse comando\n",
        "using IJulia\n",
        "notebook()"
      ],
      "metadata": {
        "id": "-NLPeYBH2DpQ"
      },
      "execution_count": null,
      "outputs": []
    },
    {
      "cell_type": "code",
      "source": [
        "using CSV, DataFrames, CategoricalArrays, MLJ\n",
        "@eval @load LogisticClassifier pkg=MLJLinearModels\n",
        "@eval @load OneHotEncoder"
      ],
      "metadata": {
        "colab": {
          "base_uri": "https://localhost:8080/"
        },
        "id": "KiKvT7HY5Zci",
        "outputId": "3fa01654-629d-48d6-d559-7e937e744ec2"
      },
      "execution_count": 36,
      "outputs": [
        {
          "output_type": "stream",
          "name": "stdout",
          "text": [
            "import MLJLinearModels ✔\n",
            "import MLJModels ✔\n"
          ]
        },
        {
          "output_type": "stream",
          "name": "stderr",
          "text": [
            "\u001b[36m\u001b[1m[ \u001b[22m\u001b[39m\u001b[36m\u001b[1mInfo: \u001b[22m\u001b[39mFor silent loading, specify `verbosity=0`. \n",
            "\u001b[36m\u001b[1m[ \u001b[22m\u001b[39m\u001b[36m\u001b[1mInfo: \u001b[22m\u001b[39mFor silent loading, specify `verbosity=0`. \n"
          ]
        },
        {
          "output_type": "execute_result",
          "data": {
            "text/plain": [
              "OneHotEncoder"
            ]
          },
          "metadata": {},
          "execution_count": 36
        }
      ]
    },
    {
      "cell_type": "code",
      "source": [
        "train_df = CSV.read(\"/content/train.csv\", DataFrame)\n",
        "test_df = CSV.read(\"/content/test.csv\", DataFrame)"
      ],
      "metadata": {
        "colab": {
          "base_uri": "https://localhost:8080/",
          "height": 1000
        },
        "id": "AaicHX3e4PMW",
        "outputId": "69b41258-9536-4481-9a3a-33ae3efd8760"
      },
      "execution_count": 37,
      "outputs": [
        {
          "output_type": "execute_result",
          "data": {
            "text/plain": [
              "\u001b[1m418×11 DataFrame\n",
              "\u001b[1m Row │\u001b[1m PassengerId \u001b[1m Pclass \u001b[1m Name                              \u001b[1m Sex     \u001b[1m Age    ⋯\n",
              "     │\u001b[90m Int64       \u001b[90m Int64  \u001b[90m String                            \u001b[90m String7 \u001b[90m Float6 ⋯\n",
              "─────┼──────────────────────────────────────────────────────────────────────────\n",
              "   1 │         892       3  Kelly, Mr. James                   male          3 ⋯\n",
              "   2 │         893       3  Wilkes, Mrs. James (Ellen Needs)   female        4\n",
              "   3 │         894       2  Myles, Mr. Thomas Francis          male          6\n",
              "   4 │         895       3  Wirz, Mr. Albert                   male          2\n",
              "   5 │         896       3  Hirvonen, Mrs. Alexander (Helga …  female        2 ⋯\n",
              "   6 │         897       3  Svensson, Mr. Johan Cervin         male          1\n",
              "   7 │         898       3  Connolly, Miss. Kate               female        3\n",
              "   8 │         899       2  Caldwell, Mr. Albert Francis       male          2\n",
              "   9 │         900       3  Abrahim, Mrs. Joseph (Sophie Hal…  female        1 ⋯\n",
              "  10 │         901       3  Davies, Mr. John Samuel            male          2\n",
              "  11 │         902       3  Ilieff, Mr. Ylio                   male    \u001b[90m missin\n",
              "  ⋮  │      ⋮         ⋮                     ⋮                     ⋮         ⋮  ⋱\n",
              " 409 │        1300       3  Riordan, Miss. Johanna Hannah\"\"    female  \u001b[90m missin\n",
              " 410 │        1301       3  Peacock, Miss. Treasteall          female          ⋯\n",
              " 411 │        1302       3  Naughton, Miss. Hannah             female  \u001b[90m missin\n",
              " 412 │        1303       1  Minahan, Mrs. William Edward (Li…  female        3\n",
              " 413 │        1304       3  Henriksson, Miss. Jenny Lovisa     female        2\n",
              " 414 │        1305       3  Spector, Mr. Woolf                 male    \u001b[90m missin ⋯\n",
              " 415 │        1306       1  Oliva y Ocana, Dona. Fermina       female        3\n",
              " 416 │        1307       3  Saether, Mr. Simon Sivertsen       male          3\n",
              " 417 │        1308       3  Ware, Mr. Frederick                male    \u001b[90m missin\n",
              " 418 │        1309       3  Peter, Master. Michael J           male    \u001b[90m missin ⋯\n",
              "\u001b[36m                                                  7 columns and 397 rows omitted"
            ],
            "text/html": [
              "<div><div style = \"float: left;\"><span>418×11 DataFrame</span></div><div style = \"float: right;\"><span style = \"font-style: italic;\">393 rows omitted</span></div><div style = \"clear: both;\"></div></div><div class = \"data-frame\" style = \"overflow-x: scroll;\"><table class = \"data-frame\" style = \"margin-bottom: 6px;\"><thead><tr class = \"header\"><th class = \"rowNumber\" style = \"font-weight: bold; text-align: right;\">Row</th><th style = \"text-align: left;\">PassengerId</th><th style = \"text-align: left;\">Pclass</th><th style = \"text-align: left;\">Name</th><th style = \"text-align: left;\">Sex</th><th style = \"text-align: left;\">Age</th><th style = \"text-align: left;\">SibSp</th><th style = \"text-align: left;\">Parch</th><th style = \"text-align: left;\">Ticket</th><th style = \"text-align: left;\">Fare</th><th style = \"text-align: left;\">Cabin</th><th style = \"text-align: left;\">Embarked</th></tr><tr class = \"subheader headerLastRow\"><th class = \"rowNumber\" style = \"font-weight: bold; text-align: right;\"></th><th title = \"Int64\" style = \"text-align: left;\">Int64</th><th title = \"Int64\" style = \"text-align: left;\">Int64</th><th title = \"String\" style = \"text-align: left;\">String</th><th title = \"String7\" style = \"text-align: left;\">String7</th><th title = \"Union{Missing, Float64}\" style = \"text-align: left;\">Float64?</th><th title = \"Int64\" style = \"text-align: left;\">Int64</th><th title = \"Int64\" style = \"text-align: left;\">Int64</th><th title = \"String31\" style = \"text-align: left;\">String31</th><th title = \"Union{Missing, Float64}\" style = \"text-align: left;\">Float64?</th><th title = \"Union{Missing, String15}\" style = \"text-align: left;\">String15?</th><th title = \"String1\" style = \"text-align: left;\">String1</th></tr></thead><tbody><tr><td class = \"rowNumber\" style = \"font-weight: bold; text-align: right;\">1</td><td style = \"text-align: right;\">892</td><td style = \"text-align: right;\">3</td><td style = \"text-align: left;\">Kelly, Mr. James</td><td style = \"text-align: left;\">male</td><td style = \"text-align: right;\">34.5</td><td style = \"text-align: right;\">0</td><td style = \"text-align: right;\">0</td><td style = \"text-align: left;\">330911</td><td style = \"text-align: right;\">7.8292</td><td style = \"font-style: italic; text-align: left;\">missing</td><td style = \"text-align: left;\">Q</td></tr><tr><td class = \"rowNumber\" style = \"font-weight: bold; text-align: right;\">2</td><td style = \"text-align: right;\">893</td><td style = \"text-align: right;\">3</td><td style = \"text-align: left;\">Wilkes, Mrs. James (Ellen Needs)</td><td style = \"text-align: left;\">female</td><td style = \"text-align: right;\">47.0</td><td style = \"text-align: right;\">1</td><td style = \"text-align: right;\">0</td><td style = \"text-align: left;\">363272</td><td style = \"text-align: right;\">7.0</td><td style = \"font-style: italic; text-align: left;\">missing</td><td style = \"text-align: left;\">S</td></tr><tr><td class = \"rowNumber\" style = \"font-weight: bold; text-align: right;\">3</td><td style = \"text-align: right;\">894</td><td style = \"text-align: right;\">2</td><td style = \"text-align: left;\">Myles, Mr. Thomas Francis</td><td style = \"text-align: left;\">male</td><td style = \"text-align: right;\">62.0</td><td style = \"text-align: right;\">0</td><td style = \"text-align: right;\">0</td><td style = \"text-align: left;\">240276</td><td style = \"text-align: right;\">9.6875</td><td style = \"font-style: italic; text-align: left;\">missing</td><td style = \"text-align: left;\">Q</td></tr><tr><td class = \"rowNumber\" style = \"font-weight: bold; text-align: right;\">4</td><td style = \"text-align: right;\">895</td><td style = \"text-align: right;\">3</td><td style = \"text-align: left;\">Wirz, Mr. Albert</td><td style = \"text-align: left;\">male</td><td style = \"text-align: right;\">27.0</td><td style = \"text-align: right;\">0</td><td style = \"text-align: right;\">0</td><td style = \"text-align: left;\">315154</td><td style = \"text-align: right;\">8.6625</td><td style = \"font-style: italic; text-align: left;\">missing</td><td style = \"text-align: left;\">S</td></tr><tr><td class = \"rowNumber\" style = \"font-weight: bold; text-align: right;\">5</td><td style = \"text-align: right;\">896</td><td style = \"text-align: right;\">3</td><td style = \"text-align: left;\">Hirvonen, Mrs. Alexander (Helga E Lindqvist)</td><td style = \"text-align: left;\">female</td><td style = \"text-align: right;\">22.0</td><td style = \"text-align: right;\">1</td><td style = \"text-align: right;\">1</td><td style = \"text-align: left;\">3101298</td><td style = \"text-align: right;\">12.2875</td><td style = \"font-style: italic; text-align: left;\">missing</td><td style = \"text-align: left;\">S</td></tr><tr><td class = \"rowNumber\" style = \"font-weight: bold; text-align: right;\">6</td><td style = \"text-align: right;\">897</td><td style = \"text-align: right;\">3</td><td style = \"text-align: left;\">Svensson, Mr. Johan Cervin</td><td style = \"text-align: left;\">male</td><td style = \"text-align: right;\">14.0</td><td style = \"text-align: right;\">0</td><td style = \"text-align: right;\">0</td><td style = \"text-align: left;\">7538</td><td style = \"text-align: right;\">9.225</td><td style = \"font-style: italic; text-align: left;\">missing</td><td style = \"text-align: left;\">S</td></tr><tr><td class = \"rowNumber\" style = \"font-weight: bold; text-align: right;\">7</td><td style = \"text-align: right;\">898</td><td style = \"text-align: right;\">3</td><td style = \"text-align: left;\">Connolly, Miss. Kate</td><td style = \"text-align: left;\">female</td><td style = \"text-align: right;\">30.0</td><td style = \"text-align: right;\">0</td><td style = \"text-align: right;\">0</td><td style = \"text-align: left;\">330972</td><td style = \"text-align: right;\">7.6292</td><td style = \"font-style: italic; text-align: left;\">missing</td><td style = \"text-align: left;\">Q</td></tr><tr><td class = \"rowNumber\" style = \"font-weight: bold; text-align: right;\">8</td><td style = \"text-align: right;\">899</td><td style = \"text-align: right;\">2</td><td style = \"text-align: left;\">Caldwell, Mr. Albert Francis</td><td style = \"text-align: left;\">male</td><td style = \"text-align: right;\">26.0</td><td style = \"text-align: right;\">1</td><td style = \"text-align: right;\">1</td><td style = \"text-align: left;\">248738</td><td style = \"text-align: right;\">29.0</td><td style = \"font-style: italic; text-align: left;\">missing</td><td style = \"text-align: left;\">S</td></tr><tr><td class = \"rowNumber\" style = \"font-weight: bold; text-align: right;\">9</td><td style = \"text-align: right;\">900</td><td style = \"text-align: right;\">3</td><td style = \"text-align: left;\">Abrahim, Mrs. Joseph (Sophie Halaut Easu)</td><td style = \"text-align: left;\">female</td><td style = \"text-align: right;\">18.0</td><td style = \"text-align: right;\">0</td><td style = \"text-align: right;\">0</td><td style = \"text-align: left;\">2657</td><td style = \"text-align: right;\">7.2292</td><td style = \"font-style: italic; text-align: left;\">missing</td><td style = \"text-align: left;\">C</td></tr><tr><td class = \"rowNumber\" style = \"font-weight: bold; text-align: right;\">10</td><td style = \"text-align: right;\">901</td><td style = \"text-align: right;\">3</td><td style = \"text-align: left;\">Davies, Mr. John Samuel</td><td style = \"text-align: left;\">male</td><td style = \"text-align: right;\">21.0</td><td style = \"text-align: right;\">2</td><td style = \"text-align: right;\">0</td><td style = \"text-align: left;\">A/4 48871</td><td style = \"text-align: right;\">24.15</td><td style = \"font-style: italic; text-align: left;\">missing</td><td style = \"text-align: left;\">S</td></tr><tr><td class = \"rowNumber\" style = \"font-weight: bold; text-align: right;\">11</td><td style = \"text-align: right;\">902</td><td style = \"text-align: right;\">3</td><td style = \"text-align: left;\">Ilieff, Mr. Ylio</td><td style = \"text-align: left;\">male</td><td style = \"font-style: italic; text-align: right;\">missing</td><td style = \"text-align: right;\">0</td><td style = \"text-align: right;\">0</td><td style = \"text-align: left;\">349220</td><td style = \"text-align: right;\">7.8958</td><td style = \"font-style: italic; text-align: left;\">missing</td><td style = \"text-align: left;\">S</td></tr><tr><td class = \"rowNumber\" style = \"font-weight: bold; text-align: right;\">12</td><td style = \"text-align: right;\">903</td><td style = \"text-align: right;\">1</td><td style = \"text-align: left;\">Jones, Mr. Charles Cresson</td><td style = \"text-align: left;\">male</td><td style = \"text-align: right;\">46.0</td><td style = \"text-align: right;\">0</td><td style = \"text-align: right;\">0</td><td style = \"text-align: left;\">694</td><td style = \"text-align: right;\">26.0</td><td style = \"font-style: italic; text-align: left;\">missing</td><td style = \"text-align: left;\">S</td></tr><tr><td class = \"rowNumber\" style = \"font-weight: bold; text-align: right;\">13</td><td style = \"text-align: right;\">904</td><td style = \"text-align: right;\">1</td><td style = \"text-align: left;\">Snyder, Mrs. John Pillsbury (Nelle Stevenson)</td><td style = \"text-align: left;\">female</td><td style = \"text-align: right;\">23.0</td><td style = \"text-align: right;\">1</td><td style = \"text-align: right;\">0</td><td style = \"text-align: left;\">21228</td><td style = \"text-align: right;\">82.2667</td><td style = \"text-align: left;\">B45</td><td style = \"text-align: left;\">S</td></tr><tr><td style = \"text-align: right;\">&vellip;</td><td style = \"text-align: right;\">&vellip;</td><td style = \"text-align: right;\">&vellip;</td><td style = \"text-align: right;\">&vellip;</td><td style = \"text-align: right;\">&vellip;</td><td style = \"text-align: right;\">&vellip;</td><td style = \"text-align: right;\">&vellip;</td><td style = \"text-align: right;\">&vellip;</td><td style = \"text-align: right;\">&vellip;</td><td style = \"text-align: right;\">&vellip;</td><td style = \"text-align: right;\">&vellip;</td><td style = \"text-align: right;\">&vellip;</td></tr><tr><td class = \"rowNumber\" style = \"font-weight: bold; text-align: right;\">407</td><td style = \"text-align: right;\">1298</td><td style = \"text-align: right;\">2</td><td style = \"text-align: left;\">Ware, Mr. William Jeffery</td><td style = \"text-align: left;\">male</td><td style = \"text-align: right;\">23.0</td><td style = \"text-align: right;\">1</td><td style = \"text-align: right;\">0</td><td style = \"text-align: left;\">28666</td><td style = \"text-align: right;\">10.5</td><td style = \"font-style: italic; text-align: left;\">missing</td><td style = \"text-align: left;\">S</td></tr><tr><td class = \"rowNumber\" style = \"font-weight: bold; text-align: right;\">408</td><td style = \"text-align: right;\">1299</td><td style = \"text-align: right;\">1</td><td style = \"text-align: left;\">Widener, Mr. George Dunton</td><td style = \"text-align: left;\">male</td><td style = \"text-align: right;\">50.0</td><td style = \"text-align: right;\">1</td><td style = \"text-align: right;\">1</td><td style = \"text-align: left;\">113503</td><td style = \"text-align: right;\">211.5</td><td style = \"text-align: left;\">C80</td><td style = \"text-align: left;\">C</td></tr><tr><td class = \"rowNumber\" style = \"font-weight: bold; text-align: right;\">409</td><td style = \"text-align: right;\">1300</td><td style = \"text-align: right;\">3</td><td style = \"text-align: left;\">Riordan, Miss. Johanna Hannah&quot;&quot;</td><td style = \"text-align: left;\">female</td><td style = \"font-style: italic; text-align: right;\">missing</td><td style = \"text-align: right;\">0</td><td style = \"text-align: right;\">0</td><td style = \"text-align: left;\">334915</td><td style = \"text-align: right;\">7.7208</td><td style = \"font-style: italic; text-align: left;\">missing</td><td style = \"text-align: left;\">Q</td></tr><tr><td class = \"rowNumber\" style = \"font-weight: bold; text-align: right;\">410</td><td style = \"text-align: right;\">1301</td><td style = \"text-align: right;\">3</td><td style = \"text-align: left;\">Peacock, Miss. Treasteall</td><td style = \"text-align: left;\">female</td><td style = \"text-align: right;\">3.0</td><td style = \"text-align: right;\">1</td><td style = \"text-align: right;\">1</td><td style = \"text-align: left;\">SOTON/O.Q. 3101315</td><td style = \"text-align: right;\">13.775</td><td style = \"font-style: italic; text-align: left;\">missing</td><td style = \"text-align: left;\">S</td></tr><tr><td class = \"rowNumber\" style = \"font-weight: bold; text-align: right;\">411</td><td style = \"text-align: right;\">1302</td><td style = \"text-align: right;\">3</td><td style = \"text-align: left;\">Naughton, Miss. Hannah</td><td style = \"text-align: left;\">female</td><td style = \"font-style: italic; text-align: right;\">missing</td><td style = \"text-align: right;\">0</td><td style = \"text-align: right;\">0</td><td style = \"text-align: left;\">365237</td><td style = \"text-align: right;\">7.75</td><td style = \"font-style: italic; text-align: left;\">missing</td><td style = \"text-align: left;\">Q</td></tr><tr><td class = \"rowNumber\" style = \"font-weight: bold; text-align: right;\">412</td><td style = \"text-align: right;\">1303</td><td style = \"text-align: right;\">1</td><td style = \"text-align: left;\">Minahan, Mrs. William Edward (Lillian E Thorpe)</td><td style = \"text-align: left;\">female</td><td style = \"text-align: right;\">37.0</td><td style = \"text-align: right;\">1</td><td style = \"text-align: right;\">0</td><td style = \"text-align: left;\">19928</td><td style = \"text-align: right;\">90.0</td><td style = \"text-align: left;\">C78</td><td style = \"text-align: left;\">Q</td></tr><tr><td class = \"rowNumber\" style = \"font-weight: bold; text-align: right;\">413</td><td style = \"text-align: right;\">1304</td><td style = \"text-align: right;\">3</td><td style = \"text-align: left;\">Henriksson, Miss. Jenny Lovisa</td><td style = \"text-align: left;\">female</td><td style = \"text-align: right;\">28.0</td><td style = \"text-align: right;\">0</td><td style = \"text-align: right;\">0</td><td style = \"text-align: left;\">347086</td><td style = \"text-align: right;\">7.775</td><td style = \"font-style: italic; text-align: left;\">missing</td><td style = \"text-align: left;\">S</td></tr><tr><td class = \"rowNumber\" style = \"font-weight: bold; text-align: right;\">414</td><td style = \"text-align: right;\">1305</td><td style = \"text-align: right;\">3</td><td style = \"text-align: left;\">Spector, Mr. Woolf</td><td style = \"text-align: left;\">male</td><td style = \"font-style: italic; text-align: right;\">missing</td><td style = \"text-align: right;\">0</td><td style = \"text-align: right;\">0</td><td style = \"text-align: left;\">A.5. 3236</td><td style = \"text-align: right;\">8.05</td><td style = \"font-style: italic; text-align: left;\">missing</td><td style = \"text-align: left;\">S</td></tr><tr><td class = \"rowNumber\" style = \"font-weight: bold; text-align: right;\">415</td><td style = \"text-align: right;\">1306</td><td style = \"text-align: right;\">1</td><td style = \"text-align: left;\">Oliva y Ocana, Dona. Fermina</td><td style = \"text-align: left;\">female</td><td style = \"text-align: right;\">39.0</td><td style = \"text-align: right;\">0</td><td style = \"text-align: right;\">0</td><td style = \"text-align: left;\">PC 17758</td><td style = \"text-align: right;\">108.9</td><td style = \"text-align: left;\">C105</td><td style = \"text-align: left;\">C</td></tr><tr><td class = \"rowNumber\" style = \"font-weight: bold; text-align: right;\">416</td><td style = \"text-align: right;\">1307</td><td style = \"text-align: right;\">3</td><td style = \"text-align: left;\">Saether, Mr. Simon Sivertsen</td><td style = \"text-align: left;\">male</td><td style = \"text-align: right;\">38.5</td><td style = \"text-align: right;\">0</td><td style = \"text-align: right;\">0</td><td style = \"text-align: left;\">SOTON/O.Q. 3101262</td><td style = \"text-align: right;\">7.25</td><td style = \"font-style: italic; text-align: left;\">missing</td><td style = \"text-align: left;\">S</td></tr><tr><td class = \"rowNumber\" style = \"font-weight: bold; text-align: right;\">417</td><td style = \"text-align: right;\">1308</td><td style = \"text-align: right;\">3</td><td style = \"text-align: left;\">Ware, Mr. Frederick</td><td style = \"text-align: left;\">male</td><td style = \"font-style: italic; text-align: right;\">missing</td><td style = \"text-align: right;\">0</td><td style = \"text-align: right;\">0</td><td style = \"text-align: left;\">359309</td><td style = \"text-align: right;\">8.05</td><td style = \"font-style: italic; text-align: left;\">missing</td><td style = \"text-align: left;\">S</td></tr><tr><td class = \"rowNumber\" style = \"font-weight: bold; text-align: right;\">418</td><td style = \"text-align: right;\">1309</td><td style = \"text-align: right;\">3</td><td style = \"text-align: left;\">Peter, Master. Michael J</td><td style = \"text-align: left;\">male</td><td style = \"font-style: italic; text-align: right;\">missing</td><td style = \"text-align: right;\">1</td><td style = \"text-align: right;\">1</td><td style = \"text-align: left;\">2668</td><td style = \"text-align: right;\">22.3583</td><td style = \"font-style: italic; text-align: left;\">missing</td><td style = \"text-align: left;\">C</td></tr></tbody></table></div>"
            ],
            "text/latex": "\\begin{tabular}{r|ccccc}\n\t& PassengerId & Pclass & Name & Sex & \\\\\n\t\\hline\n\t& Int64 & Int64 & String & String7 & \\\\\n\t\\hline\n\t1 & 892 & 3 & Kelly, Mr. James & male & $\\dots$ \\\\\n\t2 & 893 & 3 & Wilkes, Mrs. James (Ellen Needs) & female & $\\dots$ \\\\\n\t3 & 894 & 2 & Myles, Mr. Thomas Francis & male & $\\dots$ \\\\\n\t4 & 895 & 3 & Wirz, Mr. Albert & male & $\\dots$ \\\\\n\t5 & 896 & 3 & Hirvonen, Mrs. Alexander (Helga E Lindqvist) & female & $\\dots$ \\\\\n\t6 & 897 & 3 & Svensson, Mr. Johan Cervin & male & $\\dots$ \\\\\n\t7 & 898 & 3 & Connolly, Miss. Kate & female & $\\dots$ \\\\\n\t8 & 899 & 2 & Caldwell, Mr. Albert Francis & male & $\\dots$ \\\\\n\t9 & 900 & 3 & Abrahim, Mrs. Joseph (Sophie Halaut Easu) & female & $\\dots$ \\\\\n\t10 & 901 & 3 & Davies, Mr. John Samuel & male & $\\dots$ \\\\\n\t11 & 902 & 3 & Ilieff, Mr. Ylio & male & $\\dots$ \\\\\n\t12 & 903 & 1 & Jones, Mr. Charles Cresson & male & $\\dots$ \\\\\n\t13 & 904 & 1 & Snyder, Mrs. John Pillsbury (Nelle Stevenson) & female & $\\dots$ \\\\\n\t14 & 905 & 2 & Howard, Mr. Benjamin & male & $\\dots$ \\\\\n\t15 & 906 & 1 & Chaffee, Mrs. Herbert Fuller (Carrie Constance Toogood) & female & $\\dots$ \\\\\n\t16 & 907 & 2 & del Carlo, Mrs. Sebastiano (Argenia Genovesi) & female & $\\dots$ \\\\\n\t17 & 908 & 2 & Keane, Mr. Daniel & male & $\\dots$ \\\\\n\t18 & 909 & 3 & Assaf, Mr. Gerios & male & $\\dots$ \\\\\n\t19 & 910 & 3 & Ilmakangas, Miss. Ida Livija & female & $\\dots$ \\\\\n\t20 & 911 & 3 & Assaf Khalil, Mrs. Mariana (Miriam\")\" & female & $\\dots$ \\\\\n\t21 & 912 & 1 & Rothschild, Mr. Martin & male & $\\dots$ \\\\\n\t22 & 913 & 3 & Olsen, Master. Artur Karl & male & $\\dots$ \\\\\n\t23 & 914 & 1 & Flegenheim, Mrs. Alfred (Antoinette) & female & $\\dots$ \\\\\n\t24 & 915 & 1 & Williams, Mr. Richard Norris II & male & $\\dots$ \\\\\n\t25 & 916 & 1 & Ryerson, Mrs. Arthur Larned (Emily Maria Borie) & female & $\\dots$ \\\\\n\t26 & 917 & 3 & Robins, Mr. Alexander A & male & $\\dots$ \\\\\n\t27 & 918 & 1 & Ostby, Miss. Helene Ragnhild & female & $\\dots$ \\\\\n\t28 & 919 & 3 & Daher, Mr. Shedid & male & $\\dots$ \\\\\n\t29 & 920 & 1 & Brady, Mr. John Bertram & male & $\\dots$ \\\\\n\t30 & 921 & 3 & Samaan, Mr. Elias & male & $\\dots$ \\\\\n\t$\\dots$ & $\\dots$ & $\\dots$ & $\\dots$ & $\\dots$ &  \\\\\n\\end{tabular}\n"
          },
          "metadata": {},
          "execution_count": 37
        }
      ]
    },
    {
      "cell_type": "code",
      "source": [
        "features = [:Pclass, :Sex, :Age, :SibSp, :Parch, :Fare]\n",
        "train_df = dropmissing(select(train_df, [:Survived; features]))\n",
        "test_df = select(test_df, features)\n",
        "\n",
        "# Garantindo tipos corretos\n",
        "train_df.Sex = categorical(train_df.Sex)\n",
        "test_df.Sex = categorical(test_df.Sex)"
      ],
      "metadata": {
        "colab": {
          "base_uri": "https://localhost:8080/"
        },
        "id": "RSe9U6vy-B3L",
        "outputId": "5803ac18-33fa-4bd1-80ff-27dfbe498b5b"
      },
      "execution_count": 38,
      "outputs": [
        {
          "output_type": "execute_result",
          "data": {
            "text/plain": [
              "418-element CategoricalArray{String7,1,UInt32}:\n",
              " String7(\"male\")\n",
              " String7(\"female\")\n",
              " String7(\"male\")\n",
              " String7(\"male\")\n",
              " String7(\"female\")\n",
              " String7(\"male\")\n",
              " String7(\"female\")\n",
              " String7(\"male\")\n",
              " String7(\"female\")\n",
              " String7(\"male\")\n",
              " String7(\"male\")\n",
              " String7(\"male\")\n",
              " String7(\"female\")\n",
              " ⋮\n",
              " String7(\"male\")\n",
              " String7(\"male\")\n",
              " String7(\"female\")\n",
              " String7(\"female\")\n",
              " String7(\"female\")\n",
              " String7(\"female\")\n",
              " String7(\"female\")\n",
              " String7(\"male\")\n",
              " String7(\"female\")\n",
              " String7(\"male\")\n",
              " String7(\"male\")\n",
              " String7(\"male\")"
            ]
          },
          "metadata": {},
          "execution_count": 38
        }
      ]
    },
    {
      "cell_type": "code",
      "source": [
        "X_train = select(train_df, features)\n",
        "y_train = coerce(train_df.Survived, Multiclass)"
      ],
      "metadata": {
        "colab": {
          "base_uri": "https://localhost:8080/"
        },
        "id": "3I2s8dYd-Cem",
        "outputId": "3ac37ea1-9ee7-41a8-aa6d-3a1a21f95185"
      },
      "execution_count": 39,
      "outputs": [
        {
          "output_type": "execute_result",
          "data": {
            "text/plain": [
              "714-element CategoricalArray{Int64,1,UInt32}:\n",
              " 0\n",
              " 1\n",
              " 1\n",
              " 1\n",
              " 0\n",
              " 0\n",
              " 0\n",
              " 1\n",
              " 1\n",
              " 1\n",
              " 1\n",
              " 0\n",
              " 0\n",
              " ⋮\n",
              " 0\n",
              " 1\n",
              " 1\n",
              " 0\n",
              " 0\n",
              " 0\n",
              " 0\n",
              " 0\n",
              " 0\n",
              " 1\n",
              " 1\n",
              " 0"
            ]
          },
          "metadata": {},
          "execution_count": 39
        }
      ]
    },
    {
      "cell_type": "markdown",
      "source": [
        "### Usando e treinando o modelo OneHotEncoder"
      ],
      "metadata": {
        "id": "j6-PQ6tj-X0f"
      }
    },
    {
      "cell_type": "code",
      "source": [
        "hot = OneHotEncoder()\n",
        "model = LogisticClassifier()\n",
        "pipe = hot |> model\n",
        "\n",
        "mach = machine(pipe, X_train, y_train)\n",
        "fit!(mach)"
      ],
      "metadata": {
        "colab": {
          "base_uri": "https://localhost:8080/"
        },
        "id": "_JSZ6mET-FI7",
        "outputId": "3bb5ec9a-d91b-4a95-9939-e884b3689f01"
      },
      "execution_count": 40,
      "outputs": [
        {
          "output_type": "stream",
          "name": "stderr",
          "text": [
            "\u001b[36m\u001b[1m[ \u001b[22m\u001b[39m\u001b[36m\u001b[1mInfo: \u001b[22m\u001b[39mTraining machine(ProbabilisticPipeline(one_hot_encoder = OneHotEncoder(features = Symbol[], …), …), …).\n",
            "\u001b[36m\u001b[1m[ \u001b[22m\u001b[39m\u001b[36m\u001b[1mInfo: \u001b[22m\u001b[39mTraining machine(:one_hot_encoder, …).\n",
            "\u001b[36m\u001b[1m[ \u001b[22m\u001b[39m\u001b[36m\u001b[1mInfo: \u001b[22m\u001b[39mSpawning 2 sub-features to one-hot encode feature :Sex.\n",
            "\u001b[36m\u001b[1m[ \u001b[22m\u001b[39m\u001b[36m\u001b[1mInfo: \u001b[22m\u001b[39mTraining machine(:logistic_classifier, …).\n",
            "\u001b[33m\u001b[1m┌ \u001b[22m\u001b[39m\u001b[33m\u001b[1mWarning: \u001b[22m\u001b[39mf_tol is deprecated. Use f_abstol or f_reltol instead. The provided value (0.0001) will be used as f_reltol.\n",
            "\u001b[33m\u001b[1m└ \u001b[22m\u001b[39m\u001b[90m@ Optim ~/.julia/packages/Optim/8dE7C/src/types.jl:120\u001b[39m\n",
            "\u001b[36m\u001b[1m┌ \u001b[22m\u001b[39m\u001b[36m\u001b[1mInfo: \u001b[22m\u001b[39mSolver: LBFGS{Optim.Options{Float64, Nothing}, @NamedTuple{}}\n",
            "\u001b[36m\u001b[1m│ \u001b[22m\u001b[39m  optim_options: Optim.Options{Float64, Nothing}\n",
            "\u001b[36m\u001b[1m└ \u001b[22m\u001b[39m  lbfgs_options: @NamedTuple{} NamedTuple()\n"
          ]
        },
        {
          "output_type": "execute_result",
          "data": {
            "text/plain": [
              "trained Machine; does not cache data\n",
              "  model: ProbabilisticPipeline(one_hot_encoder = OneHotEncoder(features = Symbol[], …), …)\n",
              "  args: \n",
              "    1:\tSource @982 ⏎ Table{Union{AbstractVector{Continuous}, AbstractVector{Count}, AbstractVector{Multiclass{2}}}}\n",
              "    2:\tSource @188 ⏎ AbstractVector{Multiclass{2}}\n"
            ]
          },
          "metadata": {},
          "execution_count": 40
        }
      ]
    },
    {
      "cell_type": "markdown",
      "source": [
        "### Prevendo com o arquivo test.csv"
      ],
      "metadata": {
        "id": "il8GO7mw-SnV"
      }
    },
    {
      "cell_type": "code",
      "source": [
        "# 1. Recarrega X_test com imputação\n",
        "for col in [:Age, :Fare]\n",
        "    test_df[!, col] = coalesce.(test_df[!, col], mean(skipmissing(test_df[!, col])))\n",
        "end\n",
        "\n",
        "test_df.Sex = categorical(test_df.Sex)\n",
        "X_test = test_df\n",
        "\n",
        "# 2. Predição\n",
        "y_pred = predict_mode(mach, X_test)"
      ],
      "metadata": {
        "colab": {
          "base_uri": "https://localhost:8080/"
        },
        "id": "bf3Z4GQS-G5A",
        "outputId": "7edcf87a-809b-4cec-f216-e6f22f6d6501"
      },
      "execution_count": 45,
      "outputs": [
        {
          "output_type": "execute_result",
          "data": {
            "text/plain": [
              "418-element CategoricalArray{Int64,1,UInt32}:\n",
              " 0\n",
              " 0\n",
              " 0\n",
              " 0\n",
              " 1\n",
              " 0\n",
              " 1\n",
              " 0\n",
              " 1\n",
              " 0\n",
              " 0\n",
              " 0\n",
              " 1\n",
              " ⋮\n",
              " 0\n",
              " 0\n",
              " 1\n",
              " 1\n",
              " 1\n",
              " 1\n",
              " 1\n",
              " 0\n",
              " 1\n",
              " 0\n",
              " 0\n",
              " 0"
            ]
          },
          "metadata": {},
          "execution_count": 45
        }
      ]
    },
    {
      "cell_type": "markdown",
      "source": [
        "### Célular para gerar o CSV para envio no Kaggle"
      ],
      "metadata": {
        "id": "Hw0d08Eg-Jz7"
      }
    },
    {
      "cell_type": "code",
      "source": [
        "submission = DataFrame(\n",
        "    PassengerId = test_ids,\n",
        "    Survived = convert(Vector{Int}, y_pred)  # Converte de CategoricalVector{Int} para Vector{Int}\n",
        ")\n",
        "CSV.write(\"submission.csv\", submission)"
      ],
      "metadata": {
        "colab": {
          "base_uri": "https://localhost:8080/"
        },
        "id": "3mrCU3ze-JMu",
        "outputId": "79a760e7-ad61-4c26-8f92-ef524b5d357b"
      },
      "execution_count": 50,
      "outputs": [
        {
          "output_type": "execute_result",
          "data": {
            "text/plain": [
              "\"submission.csv\""
            ]
          },
          "metadata": {},
          "execution_count": 50
        }
      ]
    }
  ]
}